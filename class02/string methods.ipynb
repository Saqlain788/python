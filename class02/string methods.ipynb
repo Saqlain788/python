{
 "cells": [
  {
   "cell_type": "code",
   "execution_count": 4,
   "metadata": {},
   "outputs": [
    {
     "name": "stdout",
     "output_type": "stream",
     "text": [
      "Muhammad Saqlain\n"
     ]
    }
   ],
   "source": [
    "print(\"Muhammad Saqlain\")"
   ]
  },
  {
   "cell_type": "code",
   "execution_count": 3,
   "metadata": {},
   "outputs": [
    {
     "name": "stdout",
     "output_type": "stream",
     "text": [
      "123\n"
     ]
    }
   ],
   "source": [
    "firstname : str = 123  # Error due to strict type checking\n",
    "print(firstname)"
   ]
  },
  {
   "cell_type": "code",
   "execution_count": 5,
   "metadata": {},
   "outputs": [
    {
     "name": "stdout",
     "output_type": "stream",
     "text": [
      "<class 'str'>\n",
      "<class 'str'>\n"
     ]
    }
   ],
   "source": [
    "name : str = \"Muhammad Saqlain\"\n",
    "fathername: str = 'Abdul Qadir'\n",
    "print (type(fathername))\n",
    "print (type(name))"
   ]
  },
  {
   "cell_type": "code",
   "execution_count": 16,
   "metadata": {},
   "outputs": [
    {
     "name": "stdout",
     "output_type": "stream",
     "text": [
      "PIAIC Student Card\n",
      "Student Name:Muhammad Saqlain\n",
      "fName:Abdul Qadir\n",
      "Age:32\n"
     ]
    }
   ],
   "source": [
    "name : str = \"Muhammad Saqlain\"\n",
    "fathername: str = 'Abdul Qadir'\n",
    "qualification : str = \"M.A (Economics)\"\n",
    "age : int = 32\n",
    "card: str = \"PIAIC Student Card\\nStudent Name:\" + name + \\\n",
    "\"\\nfName:\" + fathername + \\\n",
    "    \"\\nAge:\" +str(age)\n",
    "print(card)\n",
    "# String type cannot be concatenate with integer\n",
    "# So make it convert into a string as did it age case"
   ]
  },
  {
   "cell_type": "markdown",
   "metadata": {},
   "source": [
    "# Define Multiline String / F-String"
   ]
  },
  {
   "cell_type": "code",
   "execution_count": 4,
   "metadata": {},
   "outputs": [
    {
     "name": "stdout",
     "output_type": "stream",
     "text": [
      "\n",
      "PIAIC student Card: \n",
      "Student Name:Muhammad Saqlain\n",
      "FAther's Name:Abdul Qadir\n",
      "Age: 32\n",
      "Education: M.A (Economics) \n",
      "\n"
     ]
    }
   ],
   "source": [
    "name : str = \"Muhammad Saqlain\"\n",
    "fathername: str = 'Abdul Qadir'\n",
    "qualification : str = \"M.A (Economics)\"\n",
    "age : int = 32\n",
    "card : str = f\"\"\"\n",
    "PIAIC student Card \n",
    "Student Name:{name}\n",
    "FAther's Name:{fathername}\n",
    "Age: {age}\n",
    "Education: {qualification} \n",
    "\"\"\"\n",
    "print (card)"
   ]
  },
  {
   "cell_type": "code",
   "execution_count": 15,
   "metadata": {},
   "outputs": [
    {
     "name": "stdout",
     "output_type": "stream",
     "text": [
      "\n",
      "PIAIC student Card \n",
      "Student Name: Muhammad Saqlain\n",
      "FAther's Name: Abdul Qadir\n",
      "Age:  32\n",
      "Education:  M.A (Economics) \n",
      "\n"
     ]
    }
   ],
   "source": [
    "name : str = \"Muhammad Saqlain\"\n",
    "fathername: str = 'Abdul Qadir'\n",
    "qualification : str = \"M.A (Economics)\"\n",
    "age : int = 32\n",
    "card : str = \"\"\"\n",
    "PIAIC student Card \n",
    "Student Name: {0}\n",
    "FAther's Name: {1}\n",
    "Age:  {2}\n",
    "Education:  {3} \n",
    "\"\"\".format(name, fathername, age, qualification)\n",
    "print (card)"
   ]
  },
  {
   "cell_type": "code",
   "execution_count": 18,
   "metadata": {},
   "outputs": [
    {
     "name": "stdout",
     "output_type": "stream",
     "text": [
      "My name is Saqlain\n"
     ]
    }
   ],
   "source": [
    "student_code: str = \"\"\"\n",
    "print(\"My name is Saqlain\")\n",
    "a : int = 1\n",
    "b: int = 2\n",
    "\"\"\"\n",
    "exec(student_code)"
   ]
  },
  {
   "cell_type": "code",
   "execution_count": 15,
   "metadata": {},
   "outputs": [
    {
     "name": "stdout",
     "output_type": "stream",
     "text": [
      "Muhammad Saqlain Abdul Qadir\n",
      "Hello, Muhammad Saqlain Abdul Qadir\n"
     ]
    }
   ],
   "source": [
    "first_name: str = \"Muhammad Saqlain\"\n",
    "last_name: str = \"Abdul Qadir\"\n",
    "full_name: str = f\"{first_name} {last_name}\"\n",
    "print (full_name)\n",
    "print (f\"Hello, {full_name.title()}\")"
   ]
  },
  {
   "cell_type": "code",
   "execution_count": 16,
   "metadata": {},
   "outputs": [
    {
     "name": "stdout",
     "output_type": "stream",
     "text": [
      "\n",
      "PIAIC student Card \n",
      "Student Name: Muhammad Saqlain\n",
      "FAther's Name: Abdul Qadir\n",
      "Age:  32\n",
      "Education:  M.A (Economics) \n",
      "\n"
     ]
    }
   ],
   "source": [
    "name : str = \"Muhammad Saqlain\"\n",
    "fathername: str = 'Abdul Qadir'\n",
    "qualification : str = \"M.A (Economics)\"\n",
    "age : int = 32\n",
    "card : str = \"\"\"\n",
    "PIAIC student Card \n",
    "Student Name: {a}\n",
    "FAther's Name: {b}\n",
    "Age:  {c}\n",
    "Education:  {d} \n",
    "\"\"\".format(a=name, b=fathername, c=age, d=qualification)\n",
    "print (card)"
   ]
  },
  {
   "cell_type": "markdown",
   "metadata": {},
   "source": [
    "# string Methods"
   ]
  },
  {
   "cell_type": "code",
   "execution_count": 6,
   "metadata": {},
   "outputs": [
    {
     "ename": "SyntaxError",
     "evalue": "unterminated string literal (detected at line 1) (2411447659.py, line 1)",
     "output_type": "error",
     "traceback": [
      "\u001b[1;36m  Cell \u001b[1;32mIn[6], line 1\u001b[1;36m\u001b[0m\n\u001b[1;33m    message : str = 'PIAIC student \\n father's name'\u001b[0m\n\u001b[1;37m                                                   ^\u001b[0m\n\u001b[1;31mSyntaxError\u001b[0m\u001b[1;31m:\u001b[0m unterminated string literal (detected at line 1)\n"
     ]
    }
   ],
   "source": [
    "message : str = 'PIAIC student \\n father's name'\n",
    "print(message)"
   ]
  },
  {
   "cell_type": "code",
   "execution_count": 8,
   "metadata": {},
   "outputs": [
    {
     "name": "stdout",
     "output_type": "stream",
     "text": [
      "PIAIC student name \n",
      "father's name\n"
     ]
    }
   ],
   "source": [
    "# Use double quotes\n",
    "message : str = \"PIAIC student name \\nfather's name\"\n",
    "print(message)"
   ]
  },
  {
   "cell_type": "code",
   "execution_count": 9,
   "metadata": {},
   "outputs": [
    {
     "name": "stdout",
     "output_type": "stream",
     "text": [
      "PIAIC student name \n",
      " father's name\n"
     ]
    }
   ],
   "source": [
    "# convert any special character nto simpe charactor, place \\ before character\n",
    "message : str = 'PIAIC student name \\n father\\'s name'\n",
    "print(message)"
   ]
  },
  {
   "cell_type": "code",
   "execution_count": 1,
   "metadata": {},
   "outputs": [
    {
     "name": "stdout",
     "output_type": "stream",
     "text": [
      "16\n"
     ]
    }
   ],
   "source": [
    "print (7+2+7)"
   ]
  },
  {
   "cell_type": "code",
   "execution_count": 2,
   "metadata": {},
   "outputs": [
    {
     "name": "stdout",
     "output_type": "stream",
     "text": [
      "16\n"
     ]
    }
   ],
   "source": [
    "print (7 + \\\n",
    "       2 + \\\n",
    "       7)"
   ]
  },
  {
   "cell_type": "markdown",
   "metadata": {},
   "source": [
    "# String methods and attributes"
   ]
  },
  {
   "cell_type": "code",
   "execution_count": 9,
   "metadata": {},
   "outputs": [
    {
     "name": "stdout",
     "output_type": "stream",
     "text": [
      "Muhammad saqlain\n",
      "muhammad saqlain\n",
      "MUHAMMAD SAQLAIN\n"
     ]
    }
   ],
   "source": [
    "name: str = \"muHammad Saqlain\"\n",
    "print (name.capitalize())\n",
    "print (name.lower())\n",
    "print (name.upper())"
   ]
  },
  {
   "cell_type": "code",
   "execution_count": 1,
   "metadata": {},
   "outputs": [
    {
     "name": "stdout",
     "output_type": "stream",
     "text": [
      "muhammad saqlain\n"
     ]
    }
   ],
   "source": [
    "# Make it small\n",
    "name: str = \"muHammad Saqlain\"\n",
    "print (name.casefold())\n"
   ]
  },
  {
   "cell_type": "markdown",
   "metadata": {},
   "source": [
    "# White Space stripping"
   ]
  },
  {
   "cell_type": "code",
   "execution_count": 3,
   "metadata": {},
   "outputs": [
    {
     "data": {
      "text/plain": [
       "'muHammad Saqlain         '"
      ]
     },
     "metadata": {},
     "output_type": "display_data"
    }
   ],
   "source": [
    "name: str = \"              muHammad Saqlain         \"\n",
    "display (name.lstrip())"
   ]
  },
  {
   "cell_type": "code",
   "execution_count": 4,
   "metadata": {},
   "outputs": [
    {
     "data": {
      "text/plain": [
       "'              muHammad Saqlain'"
      ]
     },
     "metadata": {},
     "output_type": "display_data"
    }
   ],
   "source": [
    "name: str = \"              muHammad Saqlain         \"\n",
    "display (name.rstrip())"
   ]
  },
  {
   "cell_type": "code",
   "execution_count": 5,
   "metadata": {},
   "outputs": [
    {
     "data": {
      "text/plain": [
       "'muHammad Saqlain'"
      ]
     },
     "metadata": {},
     "output_type": "display_data"
    }
   ],
   "source": [
    "name: str = \"              muHammad Saqlain         \"\n",
    "display (name.strip())"
   ]
  },
  {
   "cell_type": "markdown",
   "metadata": {},
   "source": [
    "# Regix"
   ]
  },
  {
   "cell_type": "code",
   "execution_count": 12,
   "metadata": {},
   "outputs": [
    {
     "data": {
      "text/plain": [
       "'              muHammad Saqlain         '"
      ]
     },
     "metadata": {},
     "output_type": "display_data"
    },
    {
     "data": {
      "text/plain": [
       "'Muhammad Saqlain'"
      ]
     },
     "metadata": {},
     "output_type": "display_data"
    }
   ],
   "source": [
    "import re \n",
    "name: str = \"              muHammad Saqlain         \"\n",
    "display (name)\n",
    "name1: str = re.sub(' {2,100}',' ', name).title().strip()\n",
    "display(name1)"
   ]
  },
  {
   "cell_type": "code",
   "execution_count": 6,
   "metadata": {},
   "outputs": [
    {
     "data": {
      "text/plain": [
       "'Pakistan valude a = 7 and valude b = 8'"
      ]
     },
     "execution_count": 6,
     "metadata": {},
     "output_type": "execute_result"
    }
   ],
   "source": [
    "a = 7\n",
    "b = 8\n",
    "\"Pakistan valude a = {} and valude b = {}\".format(a, b)"
   ]
  },
  {
   "cell_type": "code",
   "execution_count": null,
   "metadata": {},
   "outputs": [],
   "source": [
    "# Special Characters \\n \\t \\b\n",
    "\n"
   ]
  }
 ],
 "metadata": {
  "kernelspec": {
   "display_name": "python123",
   "language": "python",
   "name": "python3"
  },
  "language_info": {
   "codemirror_mode": {
    "name": "ipython",
    "version": 3
   },
   "file_extension": ".py",
   "mimetype": "text/x-python",
   "name": "python",
   "nbconvert_exporter": "python",
   "pygments_lexer": "ipython3",
   "version": "3.12.0"
  }
 },
 "nbformat": 4,
 "nbformat_minor": 2
}
