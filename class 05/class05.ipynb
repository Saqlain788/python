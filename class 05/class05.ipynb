{
 "cells": [
  {
   "cell_type": "markdown",
   "metadata": {},
   "source": [
    "# List\n",
    "* Iteration operation with loop\n",
    "* Apply any operation on element"
   ]
  },
  {
   "cell_type": "code",
   "execution_count": 1,
   "metadata": {},
   "outputs": [
    {
     "name": "stdout",
     "output_type": "stream",
     "text": [
      "['Sir Zia', 'Muhammad Saqlain', 'Dr. Noman']\n"
     ]
    }
   ],
   "source": [
    "names: list [str] = ['Sir Zia', 'Muhammad Saqlain', 'Dr. Noman']\n",
    "print(names)"
   ]
  },
  {
   "cell_type": "code",
   "execution_count": 3,
   "metadata": {},
   "outputs": [
    {
     "name": "stdout",
     "output_type": "stream",
     "text": [
      "Sir Zia\n",
      "Muhammad Saqlain\n",
      "Dr. Noman\n"
     ]
    }
   ],
   "source": [
    "names: list[str] = ['Sir Zia', 'Muhammad Saqlain', 'Dr. Noman']\n",
    "for name in names:\n",
    "    print(name)"
   ]
  },
  {
   "cell_type": "code",
   "execution_count": 8,
   "metadata": {},
   "outputs": [
    {
     "name": "stdout",
     "output_type": "stream",
     "text": [
      "Welcome Dear Teacher Sir Zia\n",
      "PIAIC Gen AI team\n",
      "\n",
      "Welcome Dear Teacher Muhammad Saqlain\n",
      "PIAIC Gen AI team\n",
      "\n",
      "Welcome Dear Teacher Dr. Noman\n",
      "PIAIC Gen AI team\n",
      "\n",
      "Pakistan Zindabad\n"
     ]
    }
   ],
   "source": [
    "for name in names:\n",
    "    print(f'Welcome Dear Teacher {name.title()}')\n",
    "    print(\"PIAIC Gen AI team\\n\")\n",
    "\n",
    "print(\"Pakistan Zindabad\")"
   ]
  },
  {
   "cell_type": "code",
   "execution_count": 22,
   "metadata": {},
   "outputs": [
    {
     "name": "stdout",
     "output_type": "stream",
     "text": [
      "Welcome Dear Teacher SIR ZIA\n",
      "PIAIC Gen AI team\n",
      "Pakistan Zindabad\n",
      "\n",
      "Welcome Dear Teacher MUHAMMAD SAQLAIN\n",
      "PIAIC Gen AI team\n",
      "Pakistan Zindabad\n",
      "\n"
     ]
    }
   ],
   "source": [
    "for name in names[:2]:\n",
    "    print(f'Welcome Dear Teacher {name.upper()}')\n",
    "    print(\"PIAIC Gen AI team\")\n",
    "    print(\"Pakistan Zindabad\\n\")"
   ]
  },
  {
   "cell_type": "code",
   "execution_count": 14,
   "metadata": {},
   "outputs": [
    {
     "name": "stdout",
     "output_type": "stream",
     "text": [
      "('qasim', '123')\n",
      "('zia', '456')\n",
      "('Noman', '983')\n"
     ]
    }
   ],
   "source": [
    "data_base : list[tuple[str,str]] = [(\"qasim\", \"123\"), \n",
    "                                    (\"zia\", \"456\"), \n",
    "                                    (\"Noman\", \"983\")\n",
    "                                   ]\n",
    "for row in data_base:\n",
    "    print(row)"
   ]
  },
  {
   "cell_type": "code",
   "execution_count": 16,
   "metadata": {},
   "outputs": [
    {
     "name": "stdout",
     "output_type": "stream",
     "text": [
      "qasim\n",
      "zia\n",
      "Noman\n"
     ]
    }
   ],
   "source": [
    "for row in data_base:\n",
    "    user, password = row\n",
    "    print(user)"
   ]
  },
  {
   "cell_type": "code",
   "execution_count": 26,
   "metadata": {},
   "outputs": [
    {
     "name": "stdout",
     "output_type": "stream",
     "text": [
      "Enter user name qasim\n",
      "Enter user password 143\n",
      "User not found or Invalid user name\n"
     ]
    }
   ],
   "source": [
    "data_base : list[tuple[str,str]] = [(\"qasim\", \"123\"), \n",
    "                                    (\"zia\", \"456\"), \n",
    "                                    (\"Noman\", \"983\")\n",
    "                                   ]\n",
    "input_user : str = input (\"Enter user name\")\n",
    "input_password : str = input (\"Enter user password\")\n",
    "\n",
    "\n",
    "for row in data_base:\n",
    "    user, password = row\n",
    "    if input_user == user and input_password == password:\n",
    "        print(\"Valid User\")\n",
    "        break\n",
    "    else:\n",
    "        print(\"User not found or Invalid user name\")\n",
    "        break\n",
    " "
   ]
  },
  {
   "cell_type": "code",
   "execution_count": 23,
   "metadata": {},
   "outputs": [
    {
     "name": "stdout",
     "output_type": "stream",
     "text": [
      "Enter user name: qasim\n",
      "Enter user password: 123\n",
      "Valid User\n"
     ]
    }
   ],
   "source": [
    "data_base : list[tuple[str,str]] = [(\"qasim\", \"123\"), \n",
    "                                    (\"zia\", \"456\"), \n",
    "                                    (\"Noman\", \"983\")\n",
    "                                   ]\n",
    "input_user : str = input (\"Enter user name:\")\n",
    "input_password : str = input (\"Enter user password:\")\n",
    "\n",
    "\n",
    "for row in data_base:\n",
    "    user, password = row\n",
    "    if input_user == user and input_password == password:\n",
    "        print(\"Valid User\")\n",
    "        break\n",
    "    else:\n",
    "        print(\"User not found or Invalid user name\")"
   ]
  },
  {
   "cell_type": "code",
   "execution_count": 25,
   "metadata": {},
   "outputs": [
    {
     "name": "stdout",
     "output_type": "stream",
     "text": [
      "Sir Zia\n"
     ]
    }
   ],
   "source": [
    "names: list[str] = ['Sir Zia', 'Muhammad Saqlain', 'Dr. Noman']\n",
    " \n",
    "for name in names:\n",
    "    print(name)\n",
    "    break\n",
    "else:\n",
    "    print(\"Pakistan Zindabad\")"
   ]
  },
  {
   "cell_type": "code",
   "execution_count": 28,
   "metadata": {},
   "outputs": [
    {
     "name": "stdout",
     "output_type": "stream",
     "text": [
      "Alice, that was a great trick!\n",
      "David, that was a great trick!\n",
      "Carolina, that was a great trick!\n",
      "I can't wait to see your next trick, CAROLINA.\n",
      "\n"
     ]
    }
   ],
   "source": [
    "magicians: list[str] = ['alice', 'david', 'carolina']\n",
    "for magician in magicians:\n",
    "    print(f\"{magician.title()}, that was a great trick!\")\n",
    "    \n",
    "\n",
    "print(f\"I can't wait to see your next trick, {magician.upper()}.\\n\")"
   ]
  },
  {
   "cell_type": "code",
   "execution_count": 29,
   "metadata": {},
   "outputs": [
    {
     "name": "stdout",
     "output_type": "stream",
     "text": [
      "Alice, that was a great trick!\n",
      "I can't wait to see your next trick, ALICE.\n",
      "\n",
      "David, that was a great trick!\n",
      "I can't wait to see your next trick, DAVID.\n",
      "\n",
      "Carolina, that was a great trick!\n",
      "I can't wait to see your next trick, CAROLINA.\n",
      "\n",
      "Thank you everyone,\n"
     ]
    }
   ],
   "source": [
    "magicians: list[str] = ['alice', 'david', 'carolina']\n",
    "for magician in magicians:\n",
    "    print(f\"{magician.title()}, that was a great trick!\")  \n",
    "    print(f\"I can't wait to see your next trick, {magician.upper()}.\\n\")\n",
    "print(\"Thank you everyone,\")"
   ]
  },
  {
   "cell_type": "markdown",
   "metadata": {},
   "source": [
    "# Number with Loop\n",
    "* Range (start,end,step)"
   ]
  },
  {
   "cell_type": "markdown",
   "metadata": {},
   "source": [
    "* range is generative function with benefit of memory. \n",
    "* range is performed with iteration i.e. \n"
   ]
  },
  {
   "cell_type": "code",
   "execution_count": 2,
   "metadata": {},
   "outputs": [
    {
     "data": {
      "text/plain": [
       "[0, 1, 2, 3, 4, 5, 6, 7, 8, 9]"
      ]
     },
     "execution_count": 2,
     "metadata": {},
     "output_type": "execute_result"
    }
   ],
   "source": [
    "list (range(10))"
   ]
  },
  {
   "cell_type": "code",
   "execution_count": 3,
   "metadata": {},
   "outputs": [
    {
     "data": {
      "text/plain": [
       "[2, 3, 4, 5, 6, 7, 8, 9]"
      ]
     },
     "execution_count": 3,
     "metadata": {},
     "output_type": "execute_result"
    }
   ],
   "source": [
    "list (range(2,10))"
   ]
  },
  {
   "cell_type": "code",
   "execution_count": 5,
   "metadata": {},
   "outputs": [
    {
     "data": {
      "text/plain": [
       "[2, 4, 6, 8, 10, 12, 14, 16, 18, 20]"
      ]
     },
     "execution_count": 5,
     "metadata": {},
     "output_type": "execute_result"
    }
   ],
   "source": [
    "list (range(2,21,2))"
   ]
  },
  {
   "cell_type": "code",
   "execution_count": 7,
   "metadata": {},
   "outputs": [
    {
     "name": "stdout",
     "output_type": "stream",
     "text": [
      "2\n",
      "4\n",
      "6\n",
      "8\n",
      "10\n",
      "12\n",
      "14\n",
      "16\n",
      "18\n",
      "20\n"
     ]
    }
   ],
   "source": [
    "for n in range(2,21,2):\n",
    "    print(n)"
   ]
  },
  {
   "cell_type": "code",
   "execution_count": 10,
   "metadata": {},
   "outputs": [
    {
     "data": {
      "text/plain": [
       "[(0, 'alice'), (1, 'david'), (2, 'carolina')]"
      ]
     },
     "execution_count": 10,
     "metadata": {},
     "output_type": "execute_result"
    }
   ],
   "source": [
    "magicians: list[str] = ['alice', 'david', 'carolina']\n",
    "    \n",
    "list(enumerate(magicians))"
   ]
  },
  {
   "cell_type": "code",
   "execution_count": 11,
   "metadata": {},
   "outputs": [
    {
     "name": "stdout",
     "output_type": "stream",
     "text": [
      "0 alice\n",
      "1 david\n",
      "2 carolina\n"
     ]
    }
   ],
   "source": [
    "magicians: list[str] = ['alice', 'david', 'carolina']\n",
    "    \n",
    "for index, name in enumerate(magicians):\n",
    "    print(index, name)"
   ]
  },
  {
   "cell_type": "code",
   "execution_count": 14,
   "metadata": {},
   "outputs": [
    {
     "name": "stdout",
     "output_type": "stream",
     "text": [
      "2 X 1 = 2\n",
      "2 X 2 = 4\n",
      "2 X 3 = 6\n",
      "2 X 4 = 8\n",
      "2 X 5 = 10\n",
      "2 X 6 = 12\n",
      "2 X 7 = 14\n",
      "2 X 8 = 16\n",
      "2 X 9 = 18\n",
      "2 X 10 = 20\n"
     ]
    }
   ],
   "source": [
    "for n in range(1,11):\n",
    "    print (f\"{2} X {n} = {n*2}\")"
   ]
  },
  {
   "cell_type": "code",
   "execution_count": 17,
   "metadata": {},
   "outputs": [
    {
     "name": "stdout",
     "output_type": "stream",
     "text": [
      "11 X 1 = 11\n",
      "11 X 2 = 22\n",
      "11 X 3 = 33\n",
      "11 X 4 = 44\n",
      "11 X 5 = 55\n",
      "11 X 6 = 66\n",
      "11 X 7 = 77\n",
      "11 X 8 = 88\n",
      "11 X 9 = 99\n",
      "11 X 10 = 110\n"
     ]
    }
   ],
   "source": [
    "for n in range(1,11):\n",
    "    print (f\"{11} X {n} = {n*11}\")"
   ]
  },
  {
   "cell_type": "code",
   "execution_count": 19,
   "metadata": {},
   "outputs": [
    {
     "name": "stdout",
     "output_type": "stream",
     "text": [
      "35 X 1 = 35\n",
      "35 X 2 = 70\n",
      "35 X 3 = 105\n",
      "35 X 4 = 140\n",
      "35 X 5 = 175\n",
      "35 X 6 = 210\n",
      "35 X 7 = 245\n",
      "35 X 8 = 280\n",
      "35 X 9 = 315\n",
      "35 X 10 = 350\n",
      "35 X 11 = 385\n",
      "35 X 12 = 420\n",
      "35 X 13 = 455\n",
      "35 X 14 = 490\n",
      "35 X 15 = 525\n",
      "35 X 16 = 560\n",
      "35 X 17 = 595\n",
      "35 X 18 = 630\n",
      "35 X 19 = 665\n",
      "35 X 20 = 700\n"
     ]
    }
   ],
   "source": [
    "for n in range(1,21):\n",
    "    print (f\"{35} X {n} = {n*35}\")"
   ]
  },
  {
   "cell_type": "code",
   "execution_count": 22,
   "metadata": {},
   "outputs": [
    {
     "name": "stdout",
     "output_type": "stream",
     "text": [
      "[1, 4, 9, 16, 25, 36, 49, 64, 81, 100]\n"
     ]
    }
   ],
   "source": [
    "squares:list[int] = []\n",
    "for value in range(1, 11):\n",
    "    square = value ** 2\n",
    "    squares.append(square)\n",
    "print(squares)"
   ]
  },
  {
   "cell_type": "code",
   "execution_count": 23,
   "metadata": {},
   "outputs": [
    {
     "name": "stdout",
     "output_type": "stream",
     "text": [
      "1\n",
      "4\n",
      "9\n",
      "16\n",
      "25\n",
      "36\n",
      "49\n",
      "64\n",
      "81\n",
      "100\n"
     ]
    }
   ],
   "source": [
    "for i in range(1,11):\n",
    "    print(i**2)"
   ]
  },
  {
   "cell_type": "code",
   "execution_count": 24,
   "metadata": {},
   "outputs": [
    {
     "data": {
      "text/plain": [
       "[1, 4, 9, 16, 25, 36, 49, 64, 81, 100]"
      ]
     },
     "execution_count": 24,
     "metadata": {},
     "output_type": "execute_result"
    }
   ],
   "source": [
    "[i**2 for i in range(1,11)]"
   ]
  },
  {
   "cell_type": "code",
   "execution_count": 30,
   "metadata": {},
   "outputs": [
    {
     "name": "stdout",
     "output_type": "stream",
     "text": [
      "[1, 2, 3, 4, 5, 6, 7, 8, 9, 0]\n",
      "9\n",
      "0\n",
      "45\n"
     ]
    }
   ],
   "source": [
    "digits:list[int] = [1, 2, 3, 4, 5, 6, 7, 8, 9, 0]\n",
    "print(digits)\n",
    "print(max(digits))\n",
    "print(min(digits))\n",
    "print(sum(digits))\n"
   ]
  },
  {
   "cell_type": "code",
   "execution_count": 31,
   "metadata": {},
   "outputs": [
    {
     "name": "stdout",
     "output_type": "stream",
     "text": [
      "['pizza', 'falafel', 'carrot cake']\n"
     ]
    }
   ],
   "source": [
    "my_foods = ['pizza', 'falafel', 'carrot cake'] \n",
    "friend_foods = my_foods[:] # slicing Deep Copy\n",
    "print(friend_foods)"
   ]
  },
  {
   "cell_type": "code",
   "execution_count": 1,
   "metadata": {},
   "outputs": [
    {
     "name": "stdout",
     "output_type": "stream",
     "text": [
      "A\n",
      "('A', 'B')\n"
     ]
    }
   ],
   "source": [
    "names: tuple[str] = ('A',\"B\",'C')\n",
    "print(names[0])\n",
    "print(names[0:2])"
   ]
  },
  {
   "cell_type": "code",
   "execution_count": 3,
   "metadata": {},
   "outputs": [
    {
     "ename": "TypeError",
     "evalue": "'tuple' object does not support item assignment",
     "output_type": "error",
     "traceback": [
      "\u001b[1;31m---------------------------------------------------------------------------\u001b[0m",
      "\u001b[1;31mTypeError\u001b[0m                                 Traceback (most recent call last)",
      "Cell \u001b[1;32mIn[3], line 2\u001b[0m\n\u001b[0;32m      1\u001b[0m names: \u001b[38;5;28mtuple\u001b[39m[\u001b[38;5;28mstr\u001b[39m] \u001b[38;5;241m=\u001b[39m (\u001b[38;5;124m'\u001b[39m\u001b[38;5;124mA\u001b[39m\u001b[38;5;124m'\u001b[39m,\u001b[38;5;124m\"\u001b[39m\u001b[38;5;124mB\u001b[39m\u001b[38;5;124m\"\u001b[39m,\u001b[38;5;124m'\u001b[39m\u001b[38;5;124mC\u001b[39m\u001b[38;5;124m'\u001b[39m)\n\u001b[1;32m----> 2\u001b[0m names[\u001b[38;5;241m0\u001b[39m] \u001b[38;5;241m=\u001b[39m \u001b[38;5;124m\"\u001b[39m\u001b[38;5;124mPakistan\u001b[39m\u001b[38;5;124m\"\u001b[39m\n\u001b[0;32m      3\u001b[0m \u001b[38;5;28mprint\u001b[39m(names)\n",
      "\u001b[1;31mTypeError\u001b[0m: 'tuple' object does not support item assignment"
     ]
    }
   ],
   "source": [
    "names: tuple[str] = ('A',\"B\",'C')\n",
    "names[0] = \"Pakistan\"\n",
    "print(names)"
   ]
  },
  {
   "cell_type": "code",
   "execution_count": 4,
   "metadata": {},
   "outputs": [
    {
     "name": "stdout",
     "output_type": "stream",
     "text": [
      "('Pakistan', 'B', 'C')\n"
     ]
    }
   ],
   "source": [
    "names: tuple[str] = ('A',\"B\",'C')\n",
    "names: tuple[str] = ('Pakistan',\"B\",'C')\n",
    "print(names)"
   ]
  },
  {
   "cell_type": "code",
   "execution_count": 8,
   "metadata": {},
   "outputs": [
    {
     "name": "stdout",
     "output_type": "stream",
     "text": [
      "('A', [1, 2, 3], True)\n"
     ]
    }
   ],
   "source": [
    "from typing import Any\n",
    "data : tuple[Any] = ('A', [1,2,3], True)\n",
    "print(data)"
   ]
  },
  {
   "cell_type": "code",
   "execution_count": 9,
   "metadata": {},
   "outputs": [
    {
     "ename": "TypeError",
     "evalue": "'tuple' object does not support item assignment",
     "output_type": "error",
     "traceback": [
      "\u001b[1;31m---------------------------------------------------------------------------\u001b[0m",
      "\u001b[1;31mTypeError\u001b[0m                                 Traceback (most recent call last)",
      "Cell \u001b[1;32mIn[9], line 2\u001b[0m\n\u001b[0;32m      1\u001b[0m data : \u001b[38;5;28mtuple\u001b[39m[Any] \u001b[38;5;241m=\u001b[39m (\u001b[38;5;124m'\u001b[39m\u001b[38;5;124mA\u001b[39m\u001b[38;5;124m'\u001b[39m, [\u001b[38;5;241m1\u001b[39m,\u001b[38;5;241m2\u001b[39m,\u001b[38;5;241m3\u001b[39m], \u001b[38;5;28;01mTrue\u001b[39;00m)\n\u001b[1;32m----> 2\u001b[0m data[\u001b[38;5;241m0\u001b[39m]\u001b[38;5;241m=\u001b[39m \u001b[38;5;124m\"\u001b[39m\u001b[38;5;124mAli\u001b[39m\u001b[38;5;124m\"\u001b[39m\n\u001b[0;32m      3\u001b[0m \u001b[38;5;28mprint\u001b[39m(data)\n",
      "\u001b[1;31mTypeError\u001b[0m: 'tuple' object does not support item assignment"
     ]
    }
   ],
   "source": [
    "data : tuple[Any] = ('A', [1,2,3], True)\n",
    "data[0]= \"Ali\"\n",
    "print(data)"
   ]
  },
  {
   "cell_type": "code",
   "execution_count": 10,
   "metadata": {},
   "outputs": [
    {
     "name": "stdout",
     "output_type": "stream",
     "text": [
      "('A', [1, 2, 3, 20], True)\n"
     ]
    }
   ],
   "source": [
    "data : tuple[Any] = ('A', [1,2,3], True)\n",
    "data[1].append(20)\n",
    "print(data)"
   ]
  },
  {
   "cell_type": "code",
   "execution_count": null,
   "metadata": {},
   "outputs": [],
   "source": []
  }
 ],
 "metadata": {
  "kernelspec": {
   "display_name": "Python 3 (ipykernel)",
   "language": "python",
   "name": "python3"
  },
  "language_info": {
   "codemirror_mode": {
    "name": "ipython",
    "version": 3
   },
   "file_extension": ".py",
   "mimetype": "text/x-python",
   "name": "python",
   "nbconvert_exporter": "python",
   "pygments_lexer": "ipython3",
   "version": "3.11.5"
  }
 },
 "nbformat": 4,
 "nbformat_minor": 4
}
